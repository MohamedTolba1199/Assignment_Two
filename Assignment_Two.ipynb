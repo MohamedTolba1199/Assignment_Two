{
 "cells": [
  {
   "cell_type": "markdown",
   "id": "5537985b",
   "metadata": {},
   "source": [
    "# Assignment:2"
   ]
  },
  {
   "cell_type": "markdown",
   "id": "95cb8f22",
   "metadata": {},
   "source": [
    "## 1. Write a Python program to add an item to a tuple."
   ]
  },
  {
   "cell_type": "code",
   "execution_count": 4,
   "id": "1e3085e9",
   "metadata": {},
   "outputs": [
    {
     "name": "stdout",
     "output_type": "stream",
     "text": [
      "(10, 20, 30, 40, 50, 100)\n",
      "(10, 20, 30, 40, 50, 100)\n"
     ]
    }
   ],
   "source": [
    "tuplex = (10,20,30,40,50)\n",
    "new_tuplex = list(tuplex)\n",
    "tuplex = new_tuplex.append(100)\n",
    "tuplex = tuple(new_tuplex)\n",
    "print(tuplex)\n",
    "# anather solution\n",
    "tuplex = (10,20,30,40,50)\n",
    "tuplex = tuplex + (100,)\n",
    "print(tuplex)\n"
   ]
  },
  {
   "cell_type": "markdown",
   "id": "0e24882a",
   "metadata": {},
   "source": [
    "## 2. Write a Python program to sum all the items in a list."
   ]
  },
  {
   "cell_type": "code",
   "execution_count": 11,
   "id": "50c4b56b",
   "metadata": {},
   "outputs": [
    {
     "name": "stdout",
     "output_type": "stream",
     "text": [
      "153\n"
     ]
    }
   ],
   "source": [
    "listx = [10,5,81,7,50]\n",
    "\n",
    "def sum_items(listx):\n",
    "    sum_items = 0\n",
    "    for x in listx:\n",
    "        sum_items +=x\n",
    "    return sum_items\n",
    "    \n",
    "print(sum_items(listx))\n",
    "    \n"
   ]
  },
  {
   "cell_type": "markdown",
   "id": "83dd871e",
   "metadata": {},
   "source": [
    "## 3. Write a Python program to multiply all the items in a list."
   ]
  },
  {
   "cell_type": "code",
   "execution_count": 13,
   "id": "6f4c60e8",
   "metadata": {},
   "outputs": [
    {
     "name": "stdout",
     "output_type": "stream",
     "text": [
      "1417500\n"
     ]
    }
   ],
   "source": [
    "listx = [10,5,81,7,50]\n",
    "\n",
    "def mul_items(listx):\n",
    "    mul_items = 1\n",
    "    for x in listx:\n",
    "        mul_items *= x\n",
    "    return mul_items\n",
    "    \n",
    "print(mul_items(listx))"
   ]
  },
  {
   "cell_type": "markdown",
   "id": "f0ad1684",
   "metadata": {},
   "source": [
    "## 4. Write a Python program to get the smallest number from a list.\n"
   ]
  },
  {
   "cell_type": "code",
   "execution_count": 18,
   "id": "b76dbe22",
   "metadata": {},
   "outputs": [
    {
     "name": "stdout",
     "output_type": "stream",
     "text": [
      "-7\n"
     ]
    }
   ],
   "source": [
    "listx = [10,5,81,-7,50]\n",
    "\n",
    "def get_small(listx):\n",
    "    min = listx[0]\n",
    "    for x in listx:\n",
    "        if x < min:\n",
    "            min=x\n",
    "    return min\n",
    "            \n",
    "print(get_small(listx))"
   ]
  },
  {
   "cell_type": "markdown",
   "id": "278e72b9",
   "metadata": {},
   "source": [
    "## 5. Write a Python program to get the largest number from a list."
   ]
  },
  {
   "cell_type": "code",
   "execution_count": 21,
   "id": "998745ad",
   "metadata": {},
   "outputs": [
    {
     "name": "stdout",
     "output_type": "stream",
     "text": [
      "82\n"
     ]
    }
   ],
   "source": [
    "listx = [10,50,82,-7,50]\n",
    "\n",
    "def get_larg(listx):\n",
    "    max = listx[0]\n",
    "    for x in listx:\n",
    "        if x > max:\n",
    "            max=x\n",
    "    return max\n",
    "            \n",
    "print(get_larg(listx))"
   ]
  },
  {
   "cell_type": "markdown",
   "id": "7ddda206",
   "metadata": {},
   "source": [
    "## 6. Write a Python program to count the number of strings from a given list of strings."
   ]
  },
  {
   "cell_type": "code",
   "execution_count": 48,
   "id": "86f4ff25",
   "metadata": {},
   "outputs": [
    {
     "ename": "SyntaxError",
     "evalue": "invalid syntax (Temp/ipykernel_6516/975480686.py, line 7)",
     "output_type": "error",
     "traceback": [
      "\u001b[1;36m  File \u001b[1;32m\"C:\\Users\\Mohamed\\AppData\\Local\\Temp/ipykernel_6516/975480686.py\"\u001b[1;36m, line \u001b[1;32m7\u001b[0m\n\u001b[1;33m    if x isinstance(str1):\u001b[0m\n\u001b[1;37m         ^\u001b[0m\n\u001b[1;31mSyntaxError\u001b[0m\u001b[1;31m:\u001b[0m invalid syntax\n"
     ]
    }
   ],
   "source": [
    "str1=[\"mohamed\",5,\"Ali\",\"12\",'x',1.5,True]\n",
    "\n",
    "print(\"The given string is\")\n",
    "print(str1)\n",
    "print(\"checking if the given input is string :\")\n",
    "for x in str1:\n",
    "    if x isinstance(str1):\n",
    "        count+=x\n",
    "    return count     \n",
    "print(count)"
   ]
  },
  {
   "cell_type": "markdown",
   "id": "79bcadf6",
   "metadata": {},
   "source": [
    "## 7. Write a Python program to clone or copy a list\n"
   ]
  },
  {
   "cell_type": "code",
   "execution_count": 22,
   "id": "845b47b0",
   "metadata": {},
   "outputs": [
    {
     "name": "stdout",
     "output_type": "stream",
     "text": [
      "[11, 22, 33, 44, 55]\n",
      "[11, 22, 33, 44, 55]\n"
     ]
    }
   ],
   "source": [
    "original_list = [11, 22,33, 44, 55]\n",
    "new_list = list(original_list)\n",
    "print(original_list)\n",
    "print(new_list)\n"
   ]
  },
  {
   "cell_type": "markdown",
   "id": "300d2985",
   "metadata": {},
   "source": [
    "## 8. Write a Python program to remove item(s) from a given set."
   ]
  },
  {
   "cell_type": "code",
   "execution_count": 24,
   "id": "343c0508",
   "metadata": {},
   "outputs": [
    {
     "name": "stdout",
     "output_type": "stream",
     "text": [
      "{5, 25, 10, 15}\n",
      "20\n"
     ]
    }
   ],
   "source": [
    "setx = {5,10,15,20,25}\n",
    "\n",
    "new_setx = setx.pop()\n",
    "print(setx) \n",
    "print(new_setx)"
   ]
  },
  {
   "cell_type": "markdown",
   "id": "0f7dbf52",
   "metadata": {},
   "source": [
    "## 9. Write a Python program to check if a set is a subset of another set."
   ]
  },
  {
   "cell_type": "code",
   "execution_count": 49,
   "id": "52ae9d54",
   "metadata": {},
   "outputs": [],
   "source": [
    "setx = set([\"apple\", \"mango\"])\n",
    "sety = set([\"mango\", \"orange\"])\n",
    "setz = set([\"mango\"])\n",
    "\n"
   ]
  },
  {
   "cell_type": "markdown",
   "id": "5752dead",
   "metadata": {},
   "source": [
    "## 10. Write a Python program to remove all elements from a given set.\n"
   ]
  },
  {
   "cell_type": "code",
   "execution_count": 27,
   "id": "a18b1e8e",
   "metadata": {},
   "outputs": [
    {
     "name": "stdout",
     "output_type": "stream",
     "text": [
      "set()\n"
     ]
    }
   ],
   "source": [
    "setA = {\"Red\", \"Green\", \"Black\", \"White\"}\n",
    "setA.clear()\n",
    "print(setA)"
   ]
  },
  {
   "cell_type": "markdown",
   "id": "2034645e",
   "metadata": {},
   "source": [
    "## 11. Write a Python program to find the maximum and minimum values in a set.\n"
   ]
  },
  {
   "cell_type": "code",
   "execution_count": 31,
   "id": "e7804ed3",
   "metadata": {},
   "outputs": [
    {
     "name": "stdout",
     "output_type": "stream",
     "text": [
      "105\n",
      "-71\n",
      "105\n",
      "-71\n"
     ]
    }
   ],
   "source": [
    "Set = {50,-71,-56,105}\n",
    "x = list(Set)\n",
    "def Max(Set):\n",
    "    max = x[0]\n",
    "    for a in x:\n",
    "        if a>max:\n",
    "            max = a\n",
    "    return max        \n",
    "print(Max(Set)) \n",
    "\n",
    "def Min(Set):\n",
    "    min = x[0]\n",
    "    for a in x:\n",
    "        if a<min:\n",
    "            min = a\n",
    "    return min        \n",
    "print(Min(Set)) \n",
    "\n",
    "# Anather Solution \n",
    "Set = {50,-71,-56,105}\n",
    "print(max(Set))\n",
    "print(min(Set))"
   ]
  },
  {
   "cell_type": "markdown",
   "id": "788d0166",
   "metadata": {},
   "source": [
    "## 12. Write a Python program to find the index of an item in a tuple.\n"
   ]
  },
  {
   "cell_type": "code",
   "execution_count": 33,
   "id": "a0994622",
   "metadata": {},
   "outputs": [
    {
     "name": "stdout",
     "output_type": "stream",
     "text": [
      "6\n"
     ]
    }
   ],
   "source": [
    "Tuple=(\"hello python\")\n",
    "x=Tuple.index(\"p\")\n",
    "print(x)\n"
   ]
  },
  {
   "cell_type": "markdown",
   "id": "4ab10216",
   "metadata": {},
   "source": [
    "## 13. Write a Python program to convert a tuple to a dictionary."
   ]
  },
  {
   "cell_type": "code",
   "execution_count": 36,
   "id": "95ca15cb",
   "metadata": {},
   "outputs": [
    {
     "name": "stdout",
     "output_type": "stream",
     "text": [
      "{5: 'A', 10: 'B'}\n"
     ]
    }
   ],
   "source": [
    "Tuple=((5,\"A\") ,(10,\"B\"))\n",
    "x=dict(Tuple)\n",
    "print(x)"
   ]
  },
  {
   "cell_type": "markdown",
   "id": "cb3ec69c",
   "metadata": {},
   "source": [
    "## 14. Write a Python program to unzip a list of tuples into individual lists."
   ]
  },
  {
   "cell_type": "code",
   "execution_count": 37,
   "id": "670bf28d",
   "metadata": {},
   "outputs": [
    {
     "name": "stdout",
     "output_type": "stream",
     "text": [
      "[(1, 2, 3), (10, 20, 30)]\n"
     ]
    }
   ],
   "source": [
    "List = [(1,10), (2,20), (3,30)]\n",
    "print(list(zip(*List)))\n"
   ]
  },
  {
   "cell_type": "markdown",
   "id": "69fbded1",
   "metadata": {},
   "source": [
    "## 15. Write a Python program to reverse a tuple."
   ]
  },
  {
   "cell_type": "code",
   "execution_count": 38,
   "id": "f41de1c3",
   "metadata": {},
   "outputs": [
    {
     "name": "stdout",
     "output_type": "stream",
     "text": [
      "(20, 15, 10, 5)\n"
     ]
    }
   ],
   "source": [
    "x = (5, 10, 15, 20)\n",
    "\n",
    "y = reversed(x)\n",
    "print(tuple(y))"
   ]
  },
  {
   "cell_type": "markdown",
   "id": "9ce80132",
   "metadata": {},
   "source": [
    "## 16. Write a Python program to convert a list of tuples into a dictionary."
   ]
  },
  {
   "cell_type": "code",
   "execution_count": 39,
   "id": "b54dd3f0",
   "metadata": {},
   "outputs": [
    {
     "name": "stdout",
     "output_type": "stream",
     "text": [
      "{'x': [1, 2, 3], 'y': [1, 2], 'z': [1]}\n"
     ]
    }
   ],
   "source": [
    "\n",
    "List = [(\"x\", 1), (\"x\", 2), (\"x\", 3), (\"y\", 1), (\"y\", 2), (\"z\", 1)]\n",
    "d = {}\n",
    "for a, b in List:\n",
    "    d.setdefault(a, []).append(b)\n",
    "print (d)\n"
   ]
  },
  {
   "cell_type": "markdown",
   "id": "e5195345",
   "metadata": {},
   "source": [
    "## 17. Write a Python program to replace the last value of tuples in a list."
   ]
  },
  {
   "cell_type": "code",
   "execution_count": 43,
   "id": "5908e54d",
   "metadata": {},
   "outputs": [
    {
     "name": "stdout",
     "output_type": "stream",
     "text": [
      "[(10, 20, 100), (40, 50, 100), (70, 80, 100)]\n"
     ]
    }
   ],
   "source": [
    "List= [(10, 20, 40), (40, 50, 60), (70, 80, 90)]\n",
    "print([t[:-1] + (100,) for t in List])\n"
   ]
  },
  {
   "cell_type": "markdown",
   "id": "5298ce75",
   "metadata": {},
   "source": [
    "## 18. Write a Python program to sort a tuple by its float element."
   ]
  },
  {
   "cell_type": "code",
   "execution_count": 45,
   "id": "9dbd44ae",
   "metadata": {},
   "outputs": [
    {
     "name": "stdout",
     "output_type": "stream",
     "text": [
      "[('element1', '17.50'), ('element3', '17.5'), ('element2', '17.10')]\n"
     ]
    }
   ],
   "source": [
    "price = [('element1', '17.50'), ('element2', '17.10'), ('element3', '17.5')]\n",
    "print( sorted(price, key=lambda x: float(x[1]), reverse=True))\n"
   ]
  }
 ],
 "metadata": {
  "kernelspec": {
   "display_name": "Python 3 (ipykernel)",
   "language": "python",
   "name": "python3"
  },
  "language_info": {
   "codemirror_mode": {
    "name": "ipython",
    "version": 3
   },
   "file_extension": ".py",
   "mimetype": "text/x-python",
   "name": "python",
   "nbconvert_exporter": "python",
   "pygments_lexer": "ipython3",
   "version": "3.9.7"
  }
 },
 "nbformat": 4,
 "nbformat_minor": 5
}
